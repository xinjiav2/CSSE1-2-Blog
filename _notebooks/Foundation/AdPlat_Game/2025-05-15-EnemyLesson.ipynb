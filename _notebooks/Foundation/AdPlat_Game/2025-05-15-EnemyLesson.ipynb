{
 "cells": [
  {
   "cell_type": "raw",
   "metadata": {
    "vscode": {
     "languageId": "raw"
    }
   },
   "source": [
    "---\n",
    "toc: true\n",
    "comments: true\n",
    "layout: post\n",
    "title: Implenting enemies into the Game\n",
    "description: Learn how to make an enemy that follows you around and ends the game when interacting\n",
    "categories: [AdPlat] \n",
    "permalink: /adplat/EnemyLesson\n",
    "author: Zhengji Li, Nikhil Ekambaran (kinda...)\n",
    "courses: { csse: {week: 17} }\n",
    "type: ccc\n",
    "---"
   ]
  },
  {
   "cell_type": "markdown",
   "metadata": {},
   "source": [
    "# Adding an Enemy That Follows the Player in a JavaScript Game\n",
    "\n",
    "In this tutorial, you'll learn how to implement a simple \"enemy\" character in a JavaScript game engine. The enemy will follow the nearest player and end the game upon contact.\n",
    "\n",
    "> This notebook is designed for learners familiar with JavaScript, basic game loops, and sprite management.\n"
   ]
  },
  {
   "cell_type": "markdown",
   "metadata": {},
   "source": [
    "## Game Environment Structure\n",
    "\n",
    "This example is built with custom classes like `Player`, `Npc`, `Collectible`, etc. We assume you have a level file like `GameLevelEnd.js`.\n",
    "\n",
    "We'll modify this level to include an enemy NPC with basic AI.\n"
   ]
  },
  {
   "cell_type": "markdown",
   "metadata": {},
   "source": [
    "## Step 1: Define the Enemy Sprite\n",
    "\n",
    "basic sprite data to create the enemy:\n",
    "\n",
    "```javascript\n",
    "const sprite_src_enemy = path + \"/images/gamify/ederman.png\";\n",
    "const sprite_data_enemy = {\n",
    "  id: 'Enderman',\n",
    "  greeting: \"You feel a dark presence...\",\n",
    "  src: sprite_src_enemy,\n",
    "  SCALE_FACTOR: 7,\n",
    "  ANIMATION_RATE: 0,\n",
    "  pixels: {height: 256, width: 128},\n",
    "  INIT_POSITION: { x: width / 2, y: height / 4 },\n",
    "  orientation: {rows: 1, columns: 1},\n",
    "  down: {row: 0, start: 0, columns: 1},\n",
    "  hitbox: { widthPercentage: 0.4, heightPercentage: 0.4 },\n",
    "  zIndex: 10,\n",
    "  update: function(players, stopGameLoop) {\n",
    "    // Follows nearest player\n",
    "    ...\n",
    "  }\n",
    "};\n"
   ]
  },
  {
   "cell_type": "markdown",
   "metadata": {},
   "source": [
    "\n",
    "---\n",
    "\n",
    "#### **Enemy AI: Following the Player**\n",
    "\n",
    "## Step 2: Follow the Nearest Player\n",
    "\n",
    "Inside the `update` function, add:\n",
    "\n",
    "```javascript\n",
    "       \n",
    "        // The update method with all functionality inline\n",
    "        update: function() {\n",
    "            // Skip update if already in killing process\n",
    "            if (this.isKilling) {\n",
    "                return;\n",
    "            }\n",
    "            \n",
    "            // Find all player objects\n",
    "            const players = this.gameEnv.gameObjects.filter(obj => \n",
    "                obj.constructor.name === 'Player'\n",
    "            );\n",
    "            \n",
    "            if (players.length === 0) return;\n",
    "            \n",
    "            // Find nearest player\n",
    "            let nearest = players[0];\n",
    "            let minDist = Infinity;\n",
    "\n",
    "            for (const player of players) {\n",
    "                const dx = player.position.x - this.position.x;\n",
    "                const dy = player.position.y - this.position.y;\n",
    "                const dist = Math.sqrt(dx*dx + dy*dy);\n",
    "                if (dist < minDist) {\n",
    "                    minDist = dist;\n",
    "                    nearest = player;\n",
    "                }\n",
    "            }\n",
    "\n",
    "            // Move towards nearest player\n",
    "            const speed = 1.5; // Adjust speed as needed\n",
    "            const dx = nearest.position.x - this.position.x;\n",
    "            const dy = nearest.position.y - this.position.y;\n",
    "            const angle = Math.atan2(dy, dx);\n",
    "            \n",
    "            // Update position\n",
    "            this.position.x += Math.cos(angle) * speed;\n",
    "            this.position.y += Math.sin(angle) * speed;\n"
   ]
  },
  {
   "cell_type": "markdown",
   "metadata": {},
   "source": [
    "\n",
    "---\n",
    "\n",
    "#### **Game Over Logic**\n",
    "## Step 3: End the Game on Collision\n",
    "\n",
    "Still inside the `update()` method:\n",
    "\n",
    "```javascript\n",
    "\n",
    "                    // 3. Reset the level after a short delay using page reload for reliability\n",
    "                    setTimeout(() => {\n",
    "                        // Clean up any lingering resources before reload\n",
    "                        if (self && self.timerInterval) {\n",
    "                            clearInterval(self.timerInterval);\n",
    "                        }\n",
    "                        \n",
    "                        // Force a complete page reload - most reliable way to reset\n",
    "                        location.reload();\n",
    "                    }, 2000); // 2 second delay before reset\n",
    "                    \n"
   ]
  },
  {
   "cell_type": "markdown",
   "metadata": {},
   "source": [
    "\n",
    "---\n",
    "\n",
    "####  **Add Enemy to the Level**\n",
    "## Step 4: Include the Enemy in the Level\n",
    "\n",
    "Make sure the enemy gets added to the game objects:\n",
    "\n",
    "```javascript\n",
    "\n",
    "this.classes = [\n",
    "  { class: BackgroundParallax, data: image_data_parallax },\n",
    "  { class: GamEnvBackground, data: image_data_end },\n",
    "  { class: Player, data: sprite_data_chillguy },\n",
    "  { class: Npc, data: sprite_data_tux },\n",
    "  { class: Collectible, data: sprite_data_eye },\n",
    "  { class: Player, data: sprite_data_alex },\n",
    "  { class: Enemy, data: sprite_data_enemy } // Add enemy here\n",
    "];\n"
   ]
  },
  {
   "cell_type": "markdown",
   "metadata": {},
   "source": [
    "\n",
    "---\n",
    "\n",
    "#### **Summary**\n",
    "```markdown\n",
    "## TL;DR\n",
    "\n",
    "You've added:\n",
    "- An enemy sprite.\n",
    "- Simple AI to follow the nearest player.\n",
    "- Collision detection to trigger Game Over.\n"
   ]
  },
  {
   "cell_type": "markdown",
   "metadata": {},
   "source": [
    "---\n",
    "\n",
    "#### **Homework**\n",
    "\n",
    "For your homework, we would want you to implement this enemy system into your actual game, unlike previous enemy lessons, this enemy will follow the player around instead of traveling around a set path.\n",
    "\n",
    "## Requirements:\n",
    "1. Enemy following player\n",
    "2. Game over when enemy interacts with player\n",
    "3. Make it look fluid"
   ]
  }
 ],
 "metadata": {
  "language_info": {
   "name": "python"
  }
 },
 "nbformat": 4,
 "nbformat_minor": 2
}
