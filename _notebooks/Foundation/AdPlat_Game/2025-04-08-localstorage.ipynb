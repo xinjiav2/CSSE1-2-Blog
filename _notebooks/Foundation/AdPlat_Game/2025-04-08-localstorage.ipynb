{
 "cells": [
  {
   "cell_type": "raw",
   "id": "0186ab00",
   "metadata": {
    "vscode": {
     "languageId": "raw"
    }
   },
   "source": [
    "---\n",
    "toc: true\n",
    "comments: true\n",
    "layout: post\n",
    "title: Local Storage in JS\n",
    "description: Learn how Local Storage works and how to use it.\n",
    "categories: [AdPlat] \n",
    "permalink: /adplat/API\n",
    "author: Ruhaan Bansal, Zhengji Li\n",
    "courses: { csse: {week: 17} }\n",
    "type: ccc\n",
    "---"
   ]
  },
  {
   "cell_type": "markdown",
   "id": "e87db184",
   "metadata": {},
   "source": [
    "# Lesson on Local Storage in JavaScript\n",
    "\n",
    "Local Storage allows web applications to store data in the browser for persistent access. This data is stored in key-value pairs and persists even when the browser is closed and reopened. Local Storage is part of the Web Storage API, along with Session Storage.\n",
    "\n",
    "## What is Local Storage?\n",
    "\n",
    "Local Storage is a simple and efficient way to store data in the browser without needing a database or server. Unlike cookies, the data stored in Local Storage is not sent to the server with every request, making it ideal for storing user preferences, session data, or temporary settings.\n",
    "\n",
    "## Key Features of Local Storage\n",
    "\n",
    "- **Persistent Data**: Data stored in Local Storage is persistent, meaning it will remain even after the user closes the browser or refreshes the page.\n",
    "- **Size Limit**: Most browsers allow Local Storage to store about 5MB of data per origin (domain).\n",
    "- **Key-Value Pair**: Data is stored as strings, and each item consists of a key and a corresponding value.\n",
    "\n",
    "## How to Use Local Storage\n",
    "\n",
    "### Storing Data\n",
    "\n",
    "To store data in Local Storage, use the `setItem()` method. It requires two parameters: a key (string) and a value (string).\n",
    "\n"
   ]
  },
  {
   "cell_type": "code",
   "execution_count": null,
   "id": "be50603a",
   "metadata": {
    "vscode": {
     "languageId": "javascript"
    }
   },
   "outputs": [
    {
     "data": {
      "application/javascript": "localStorage.setItem('username', 'Mr.Mortensen');\n",
      "text/plain": [
       "<IPython.core.display.Javascript object>"
      ]
     },
     "metadata": {},
     "output_type": "display_data"
    }
   ],
   "source": [
    "%%js\n",
    "localStorage.setItem('username', 'pika43');"
   ]
  },
  {
   "cell_type": "markdown",
   "id": "a9a29f39",
   "metadata": {},
   "source": [
    "## Retrieving Data\n",
    "\n",
    "To retrieve stored data, use the `getItem()` method, passing in the key of the item you want to retrieve.\n"
   ]
  },
  {
   "cell_type": "code",
   "execution_count": null,
   "id": "4fcbb8f5",
   "metadata": {
    "vscode": {
     "languageId": "javascript"
    }
   },
   "outputs": [
    {
     "data": {
      "application/javascript": "let username = localStorage.getItem('username');\nconsole.log(username);  // Output: Mr.Mortensen\n",
      "text/plain": [
       "<IPython.core.display.Javascript object>"
      ]
     },
     "metadata": {},
     "output_type": "display_data"
    }
   ],
   "source": [
    "%%js \n",
    "let username = localStorage.getItem('username');\n",
    "console.log(username);  // Output: pika43\n"
   ]
  },
  {
   "cell_type": "markdown",
   "id": "9d671bab",
   "metadata": {},
   "source": [
    "## Removing Data\n",
    "\n",
    "To remove an item from Local Storage, use the `removeItem()` method, passing in the key of the item to be removed.\n"
   ]
  },
  {
   "cell_type": "code",
   "execution_count": 17,
   "id": "6f19f98b",
   "metadata": {
    "vscode": {
     "languageId": "javascript"
    }
   },
   "outputs": [
    {
     "data": {
      "application/javascript": "localStorage.removeItem('username');\n",
      "text/plain": [
       "<IPython.core.display.Javascript object>"
      ]
     },
     "metadata": {},
     "output_type": "display_data"
    }
   ],
   "source": [
    "%%js \n",
    "localStorage.removeItem('username');\n"
   ]
  },
  {
   "cell_type": "markdown",
   "id": "26b8b8cf",
   "metadata": {},
   "source": [
    "## Clearing All Data\n",
    "\n",
    "To clear all data stored in Local Storage for a particular origin, use the `clear()` method.\n"
   ]
  },
  {
   "cell_type": "code",
   "execution_count": 18,
   "id": "184bdc29",
   "metadata": {
    "vscode": {
     "languageId": "javascript"
    }
   },
   "outputs": [
    {
     "data": {
      "application/javascript": "localStorage.clear();\n",
      "text/plain": [
       "<IPython.core.display.Javascript object>"
      ]
     },
     "metadata": {},
     "output_type": "display_data"
    }
   ],
   "source": [
    "%%js \n",
    "localStorage.clear();\n"
   ]
  },
  {
   "cell_type": "markdown",
   "id": "b10ffa60",
   "metadata": {},
   "source": [
    "## Working with JSON Data\n",
    "\n",
    "Local Storage only stores strings, so if you need to store more complex data like objects or arrays, you must convert the data to a string using `JSON.stringify()` before storing it, and then parse it back into a JavaScript object with `JSON.parse()` when retrieving it.\n",
    "\n",
    "### Example: Storing and Retrieving an Object\n",
    "\n",
    "\n"
   ]
  },
  {
   "cell_type": "code",
   "execution_count": null,
   "id": "1d587c1c",
   "metadata": {
    "vscode": {
     "languageId": "javascript"
    }
   },
   "outputs": [
    {
     "data": {
      "application/javascript": "// Storing an object\nconst user = { name: \"Mr. Mortensen\", age: 30 };\nlocalStorage.setItem('user', JSON.stringify(user));\n\n// Retrieving the object\nconst storedUser = JSON.parse(localStorage.getItem('user'));\nconsole.log(storedUser.name); // Output: Mr. Mortensen\n",
      "text/plain": [
       "<IPython.core.display.Javascript object>"
      ]
     },
     "metadata": {},
     "output_type": "display_data"
    }
   ],
   "source": [
    "%%js \n",
    "// Storing an object\n",
    "const user = { name: \"pika43\", age: 15 };\n",
    "localStorage.setItem('user', JSON.stringify(user));\n",
    "\n",
    "// Retrieving the object\n",
    "const storedUser = JSON.parse(localStorage.getItem('user'));\n",
    "console.log(storedUser.name); // Output: Mr. Mortensen"
   ]
  },
  {
   "cell_type": "markdown",
   "id": "f0c940bc",
   "metadata": {},
   "source": [
    "## Checking for Local Storage Support\n",
    "\n",
    "Before using Local Storage, it's good practice to check if the browser supports it."
   ]
  },
  {
   "cell_type": "code",
   "execution_count": 20,
   "id": "4c5b51ff",
   "metadata": {
    "vscode": {
     "languageId": "javascript"
    }
   },
   "outputs": [
    {
     "data": {
      "application/javascript": "if (typeof(Storage) !== 'undefined') {\n  // Local Storage is available\n} else {\n  // Local Storage is not available\n}\n",
      "text/plain": [
       "<IPython.core.display.Javascript object>"
      ]
     },
     "metadata": {},
     "output_type": "display_data"
    }
   ],
   "source": [
    "%%js \n",
    "if (typeof(Storage) !== 'undefined') {\n",
    "  // Local Storage is available\n",
    "} else {\n",
    "  // Local Storage is not available\n",
    "}"
   ]
  },
  {
   "cell_type": "markdown",
   "id": "6daddc41",
   "metadata": {},
   "source": [
    "## Use Cases for Local Storage\n",
    "\n",
    "- **User Preferences**: Store settings like dark mode or language selection.\n",
    "- **Form Data**: Store incomplete form data so the user can pick up where they left off.\n",
    "- **Session Management**: Keep track of user authentication states across sessions.\n",
    "- **Caching**: Store API responses to reduce load times for subsequent visits.\n",
    "\n",
    "## Limitations of Local Storage\n",
    "\n",
    "- **Size Limit**: The 5MB storage limit might not be sufficient for large applications.\n",
    "- **Security**: Data stored in Local Storage is not encrypted, so it can be accessed by any JavaScript code running on the page. Sensitive information should never be stored in Local Storage.\n",
    "- **Synchronous API**: Local Storage operations are synchronous, which can cause performance issues if large amounts of data are stored or retrieved.\n",
    "\n",
    "## Conclusion\n",
    "\n",
    "Local Storage provides a simple and effective way to store data on the client side. While it's great for storing non-sensitive data, developers should always consider security and size constraints when using it. Remember that data in Local Storage persists across sessions, so be mindful of how and when you clear stored data.\n",
    "\n",
    "## Hacks\n",
    "\n",
    "### Popcorn Hack 1: Auto-Complete with Local Storage\n",
    "\n",
    "Use Local Storage to store recent search terms in a search bar. When the user types a query, show a list of previously searched terms from Local Storage, making it easier for users to quickly search again.\n",
    "\n",
    "### Popcorn Hack 2: Save Progress in Games\n",
    "\n",
    "For games that don’t require server-side saving, use Local Storage to store player progress, high scores, and level information. This way, even if the user closes the game or their browser, their progress is saved.\n",
    "\n",
    "## Homework\n",
    "\n",
    "### Create a To-Do List with Local Storage:\n",
    "\n",
    "- Create a basic to-do list application where users can add and remove tasks.\n",
    "- Store the to-do list in Local Storage so that the tasks persist even when the page is reloaded.\n",
    "- When the user adds a task, update the Local Storage data and re-render the list on the page.\n",
    "\n",
    "### User Preferences Application:\n",
    "\n",
    "- Build a simple application that allows users to choose a theme (light or dark mode). (you can do this on the API's webpage)\n",
    "- Save their theme preference in Local Storage and apply the theme on page load based on the stored preference.\n"
   ]
  }
 ],
 "metadata": {
  "kernelspec": {
   "display_name": "Python 3",
   "language": "python",
   "name": "python3"
  },
  "language_info": {
   "codemirror_mode": {
    "name": "ipython",
    "version": 3
   },
   "file_extension": ".py",
   "mimetype": "text/x-python",
   "name": "python",
   "nbconvert_exporter": "python",
   "pygments_lexer": "ipython3",
   "version": "3.11.9"
  }
 },
 "nbformat": 4,
 "nbformat_minor": 5
}
