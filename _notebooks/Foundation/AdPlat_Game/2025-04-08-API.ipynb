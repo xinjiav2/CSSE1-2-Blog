{
  "cells": [
    {
      "cell_type": "raw",
      "metadata": {
        "vscode": {
          "languageId": "raw"
        }
      },
      "source": [
        "---\n",
        "toc: true\n",
        "comments: true\n",
        "layout: post\n",
        "title: API's and how they are used\n",
        "description: Learn how API's work and how to implement one\n",
        "categories: [AdPlat]\n",
        "permalink: /adplat/API\n",
        "author: Zhengji Li\n",
        "courses: { csse: {week: 17} }\n",
        "type: ccc\n",
        "sections:\n",
        "  - id: web-apis-intro\n",
        "    title: \"What is Web API?\"\n",
        "    content: |\n",
        "      - API stands for Application Programming Interface.\n",
        "      - A Web API is an application programming interface for the Web.\n",
        "      - A Browser API can extend the functionality of a web browser.\n",
        "      - A Server API can extend the functionality of a web server.\n",
        "    code_examples:\n",
        "      - title: \"Crypto API Example\"\n",
        "        code: |\n",
        "          const myArray = new Uint32Array(10);\n",
        "          crypto.getRandomValues(myArray);\n",
        "          console.log(myArray)\n",
        "        explanation: \"This web API creates a typed array and fills it with cryptographically secure random values\"\n",
        "\n",
        "  - id: browser-apis\n",
        "    title: \"Browser APIs\"\n",
        "    content: |\n",
        "      All browsers have a set of built-in Web APIs to support complex operations, and to help accessing data.\n",
        "      For example, the Geolocation API can return the coordinates of where the browser is located.\n",
        "    code_examples:\n",
        "      - title: \"Geolocation API Example\"\n",
        "        code: |\n",
        "          function getLocation() {\n",
        "            if (navigator.geolocation) {\n",
        "              navigator.geolocation.getCurrentPosition(showPosition);\n",
        "            } else {\n",
        "              console.log(\"Geolocation is not supported\");\n",
        "            }\n",
        "          }\n",
        "        explanation: \"This example demonstrates how to use the browser's Geolocation API\"\n",
        "\n",
        "  - id: fetch-api\n",
        "    title: \"Fetch API - Making HTTP Requests\"\n",
        "    content: |\n",
        "      The Fetch API provides a modern interface for making HTTP requests.\n",
        "    interactive: true\n",
        "    code_examples:\n",
        "      - title: \"Basic Fetch Example\"\n",
        "        code: |\n",
        "          async function fetchData() {\n",
        "            try {\n",
        "              const response = await fetch('https://jsonplaceholder.typicode.com/posts/1');\n",
        "              const data = await response.json();\n",
        "              console.log('Fetched data:', data);\n",
        "            } catch (error) {\n",
        "              console.error('Error fetching data:', error);\n",
        "            }\n",
        "          }\n",
        "\n",
        "questions:\n",
        "  - id: q1\n",
        "    title: \"Understanding Web APIs\"\n",
        "    question: \"What is the difference between a Browser API and a Server API? Provide examples of each.\"\n",
        "  - id: q2\n",
        "    title: \"Fetch API Practice\"\n",
        "    question: \"Write a function that uses the Fetch API to get data from an API endpoint and handle both success and error cases.\"\n",
        "  - id: q3\n",
        "    title: \"Geolocation Implementation\"\n",
        "    question: \"How would you implement error handling for the Geolocation API example shown above?\"\n",
        "---"
      ]
    },
    {
      "cell_type": "markdown",
      "metadata": {},
      "source": [
        "# Web APIs"
      ]
    },
    {
      "cell_type": "markdown",
      "metadata": {},
      "source": [
        "### What is Web API?"
      ]
    },
    {
      "cell_type": "markdown",
      "metadata": {},
      "source": [
        " - API stands for Application Programming Interface.\n",
        " - A Web API is an application programming interface for the Web.\n",
        " - A Browser API can extend the functionality of a web browser.\n",
        " - A Server API can extend the functionality of a web server."
      ]
    },
    {
      "cell_type": "markdown",
      "metadata": {},
      "source": [
        "## Web APIs include methods and properties that extend functionalities of a browser"
      ]
    },
    {
      "cell_type": "markdown",
      "metadata": {},
      "source": [
        "#### Example:"
      ]
    },
    {
      "cell_type": "code",
      "execution_count": 9,
      "metadata": {
        "vscode": {
          "languageId": "javascript"
        }
      },
      "outputs": [
        {
          "data": {
            "application/javascript": "\nconst myArray = new Uint32Array(10);\ncrypto.getRandomValues(myArray);\nconsole.log(myArray)\n",
            "text/plain": [
              "<IPython.core.display.Javascript object>"
            ]
          },
          "metadata": {},
          "output_type": "display_data"
        }
      ],
      "source": [
        "%%js\n",
        "\n",
        "const myArray = new Uint32Array(10);\n",
        "crypto.getRandomValues(myArray);\n",
        "console.log(myArray)"
      ]
    },
    {
      "cell_type": "markdown",
      "metadata": {},
      "source": [
        "#### Explanation:\n",
        "This web API creates a typed array of 10 integers called `Uint32Array` <br>\n",
        "It then fills it in with random values using `crypto.getRandomValues(myArray);` <br>\n",
        "`console.log(myArray)` prints out the random values\n",
        "\n",
        "### Uses:\n",
        "This is useful for security, where it would generate random cryptographic keys"
      ]
    },
    {
      "cell_type": "markdown",
      "metadata": {},
      "source": [
        "### Browser APIs"
      ]
    },
    {
      "cell_type": "markdown",
      "metadata": {},
      "source": [
        "All browsers have a set of built-in Web APIs to support complex operations, and to help accessing data.\n",
        "\n",
        "For example, the Geolocation API can return the coordinates of where the browser is located."
      ]
    },
    {
      "cell_type": "markdown",
      "metadata": {},
      "source": [
        "#### Example:"
      ]
    },
    {
      "cell_type": "code",
      "execution_count": null,
      "metadata": {
        "vscode": {
          "languageId": "javascript"
        }
      },
      "outputs": [],
      "source": [
        "// Gets latitude and longitude of user's position\n",
        "\n",
        "%%js\n",
        "\n",
        "const myElement = document.getElementById(\"demo\");\n",
        "\n",
        "function getLocation() {\n",
        "if (navigator.geolocation) {\n",
        "  navigator.geolocation.getCurrentPosition(showPosition);\n",
        "} else {\n",
        "  myElement.innerHTML = \"User denied geolocation\";\n",
        "}\n",
        "}\n",
        "\n",
        "function showPosition(position) {\n",
        "myElement.innerHTML = \"Latitude: \" + position.coords.latitude +\n",
        "\"<br>Longitude: \" + position.coords.longitude;\n",
        "}"
      ]
    },
    {
      "cell_type": "markdown",
      "metadata": {},
      "source": [
        "This following code checks if the Geolocation API is in the user's browser, and if it is it uses `getCurrentPosition()` to find the user's location. It then displays the latitude and longitude."
      ]
    },
    {
      "cell_type": "markdown",
      "metadata": {},
      "source": [
        "## More APIs:"
      ]
    },
    {
      "cell_type": "markdown",
      "metadata": {},
      "source": [
        "### 1. Fetch API - Making HTTP Requests"
      ]
    },
    {
      "cell_type": "code",
      "execution_count": 10,
      "metadata": {
        "vscode": {
          "languageId": "javascript"
        }
      },
      "outputs": [
        {
          "data": {
            "application/javascript": "\nasync function fetchData() {\n  try {\n    const response = await fetch('https://jsonplaceholder.typicode.com/posts/1');\n    const data = await response.json();\n    console.log('Fetched data:', data);\n  } catch (error) {\n    console.error('Error fetching data:', error);\n  } \n}\n\nfetchData();\n",
            "text/plain": [
              "<IPython.core.display.Javascript object>"
            ]
          },
          "metadata": {},
          "output_type": "display_data"
        },
        {
          "ename": "",
          "evalue": "",
          "output_type": "error",
          "traceback": [
            "\u001b[1;31mThe Kernel crashed while executing code in the current cell or a previous cell. \n",
            "\u001b[1;31mPlease review the code in the cell(s) to identify a possible cause of the failure. \n",
            "\u001b[1;31mClick <a href='https://aka.ms/vscodeJupyterKernelCrash'>here</a> for more info. \n",
            "\u001b[1;31mView Jupyter <a href='command:jupyter.viewOutput'>log</a> for further details."
          ]
        }
      ],
      "source": [
        "%%js\n",
        "\n",
        "async function fetchData() {\n",
        "  try {\n",
        "    const response = await fetch('https://jsonplaceholder.typicode.com/posts/1');\n",
        "    const data = await response.json();\n",
        "    console.log('Fetched data:', data);\n",
        "  } catch (error) {\n",
        "    console.error('Error fetching data:', error);\n",
        "  } \n",
        "}\n",
        "\n",
        "fetchData();"
      ]
    },
    {
      "cell_type": "markdown",
      "metadata": {},
      "source": [
        "This is a fetch API and it declares an asynchronous function. <br>\n",
        " - Asynchronous functions return a promise and are useful for handeling things that take time (Like API calls!). <br>\n",
        "\n",
        "`fetch()` is a web API used to make HTTP requests (eg, GET, POST, DELETE), and this one sends a GET request to the JSONPlaceholder API. `await` means the function will pause until the response is recived. <br>\n",
        "\n",
        "The data is then converted from HTTP to JSON in `const data = await response.json();`, which sends structured data on web. This also uses `await` because `.json()` returns a promise. <br>\n",
        "\n",
        "`console.log('Fetched data:', data')` prints the data to a browser console, and it would look something like this:\n"
      ]
    },
    {
      "cell_type": "code",
      "execution_count": null,
      "metadata": {
        "vscode": {
          "languageId": "javascript"
        }
      },
      "outputs": [],
      "source": [
        "Fetched data: \n",
        "{userId: 1, id: 1, title: 'sunt aut facere repellat provident occaecati excepturi optio reprehenderit', body: 'quia et suscipit\\nsuscipit recusandae consequuntur …strum rerum est autem sunt rem eveniet architecto'}\n",
        "body\n",
        ": \n",
        "\"quia et suscipit\\nsuscipit recusandae consequuntur expedita et cum\\nreprehenderit molestiae ut ut quas totam\\nnostrum rerum est autem sunt rem eveniet architecto\"\n",
        "id\n",
        ": \n",
        "1\n",
        "title\n",
        ": \n",
        "\"sunt aut facere repellat provident occaecati excepturi optio reprehenderit\"\n",
        "userId\n",
        ": \n",
        "1\n",
        "[[Prototype]]\n",
        ": \n",
        "Object"
      ]
    },
    {
      "cell_type": "markdown",
      "metadata": {},
      "source": [
        "### 2. Local Storage API - Storing Data Locally"
      ]
    },
    {
      "cell_type": "code",
      "execution_count": null,
      "metadata": {
        "vscode": {
          "languageId": "javascript"
        }
      },
      "outputs": [],
      "source": [
        "%%js\n",
        "\n",
        "// Store data\n",
        "localStorage.setItem('username', 'pika43');\n",
        "localStorage.setItem('theme', 'dark');\n",
        "\n",
        "// Retrieve data\n",
        "const username = localStorage.getItem('username');\n",
        "const theme = localStorage.getItem('theme');\n",
        "\n",
        "console.log('Username:', username);\n",
        "console.log('Theme:', theme);"
      ]
    },
    {
      "cell_type": "markdown",
      "metadata": {},
      "source": [
        "This is a Web Storage API, specifically localStorage, and it is used to store and retrive data in the browser. <br>\n",
        "\n",
        "localStorage is covered in the other lesson so the explanation will be brief. <br>\n",
        "\n",
        "In this example a username is set to 'pika43', and the theme is set to 'dark'. <br>\n",
        "\n",
        "`const username = localStorage.getItem('username')` and `const theme = localStorage.getItem('theme')` are used to retrive the values for the key username and theme. <br>\n",
        "\n",
        "the `console.log` displays the username and theme."
      ]
    },
    {
      "cell_type": "markdown",
      "metadata": {},
      "source": [
        "### 3. Canvas API - Drawing Graphics"
      ]
    },
    {
      "cell_type": "code",
      "execution_count": 8,
      "metadata": {
        "vscode": {
          "languageId": "javascript"
        }
      },
      "outputs": [
        {
          "data": {
            "application/javascript": "\n// Create a canvas element\nconst canvas = document.createElement('canvas');\ncanvas.width = 200;\ncanvas.height = 200;\ndocument.body.appendChild(canvas);\n\n// Get the context\nconst ctx = canvas.getContext('2d');\n\n// Draw a circle\nctx.beginPath();\nctx.arc(100, 100, 50, 0, Math.PI * 2);\nctx.fillStyle = 'blue';\nctx.fill();\nctx.stroke();\n",
            "text/plain": [
              "<IPython.core.display.Javascript object>"
            ]
          },
          "metadata": {},
          "output_type": "display_data"
        }
      ],
      "source": [
        "%%js\n",
        "\n",
        "// Create a canvas element\n",
        "const canvas = document.createElement('canvas');\n",
        "canvas.width = 200;\n",
        "canvas.height = 200;\n",
        "document.body.appendChild(canvas);\n",
        "\n",
        "// Get the context\n",
        "const ctx = canvas.getContext('2d');\n",
        "\n",
        "// Draw a circle\n",
        "ctx.beginPath();\n",
        "ctx.arc(100, 100, 50, 0, Math.PI * 2);\n",
        "ctx.fillStyle = 'blue';\n",
        "ctx.fill();\n",
        "ctx.stroke();"
      ]
    },
    {
      "cell_type": "markdown",
      "metadata": {},
      "source": [
        "This uses the canvas API, which draws graphics on a `canvas` element using JS. <br>\n",
        "\n",
        "In the example above a 200x200 pixel canvas is created, and is added to the page. <br>\n",
        "\n",
        "`const ctx = canvas.getContext('2d')` gets 2d rendering context `ctx` from the canvas. <br>\n",
        "\n",
        "The code after that is responsible for drawing a circle, with its center at (100,100), the radius is 50, and makes it a blue color."
      ]
    },
    {
      "cell_type": "markdown",
      "metadata": {},
      "source": [
        "# Why use APIs?"
      ]
    },
    {
      "cell_type": "markdown",
      "metadata": {},
      "source": [
        "### There are multipule reasons for why a webpage would use an API\n",
        "\n",
        "1. To access External Data\n",
        " - APIs let webpages display data from somewhere else\n",
        "2. To communicate with servers\n",
        " - APIs let websites send and recive information from backend servers\n",
        "3. To use browser or device features\n",
        " - The browser has Web APIs that can allow pages to do things such as access your geolocation, use the camera, or store data in localStorage\n",
        "4. To keep page dynamic\n",
        " - APIs allow asynchronous communication, so pages can update content without refreshing, such as in discord (everyone here uses discord right? if not slack), you do not need to refresh the page every time you want to view a new message.\n",
        "5. To connect with third party services\n",
        " - Websites might use APIs from other companies so they can save effort, such as Google Maps uses APIs to embed maps"
      ]
    },
    {
      "cell_type": "markdown",
      "metadata": {},
      "source": [
        "# Homework!!!!"
      ]
    },
    {
      "cell_type": "markdown",
      "metadata": {},
      "source": [
        "Your homework is to create a simple currency converter using JS and an exchange rate API. We used https://freecurrencyapi.com/ however you could use whatever API you want. <br>\n",
        "You can make this into a page, and it does not have to be in the repository. You can create a new repository or put it in your personal blog\n",
        "\n",
        "## Requirements:\n",
        " - YOU MUST USE AN API (eg, no using a fixed exchange rate such as 1 USD=7.34 CNY)\n",
        " - You should have a minimum of 2 conversions, (USD to EUR and EUR to USD count as 1 each with a total of 2)\n",
        " - make it look nice, such as not have it just be markdown (why we used HTML)\n",
        "\n",
        "# If you do not want to create a currency converter, you can make something else that uses an API, for example, something that displays the weather for the city they are in (hint: it uses the geolocation API)\n",
        "# Overall this is supposed to be a fun learning assignment about API's so you should have fun :D"
      ]
    }
  ],
  "metadata": {
    "kernelspec": {
      "display_name": "Python 3",
      "language": "python",
      "name": "python3"
    },
    "language_info": {
      "codemirror_mode": {
        "name": "ipython",
        "version": 3
      },
      "file_extension": ".py",
      "mimetype": "text/x-python",
      "name": "python",
      "nbconvert_exporter": "python",
      "pygments_lexer": "ipython3",
      "version": "3.12.1"
    }
  },
  "nbformat": 4,
  "nbformat_minor": 2
}
